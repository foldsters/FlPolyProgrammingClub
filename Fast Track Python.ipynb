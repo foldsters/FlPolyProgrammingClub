{
 "cells": [
  {
   "cell_type": "markdown",
   "metadata": {
    "slideshow": {
     "slide_type": "fragment"
    }
   },
   "source": [
    "# Fast Track Python"
   ]
  },
  {
   "cell_type": "markdown",
   "metadata": {},
   "source": [
    "__Python__ is an __interpreted__, __high-level__ programming language for __general-purpose programming__. Python has a design philosophy that __emphasizes code readability__, notably __using significant whitespace.__\n",
    "\n",
    "Python features a __dynamic type system__ and __automatic memory management.__ It supports __multiple programming paradigms__, including __object-oriented__, __imperative__, __functional__, and __procedural,__ and has a large and comprehensive __standard library__. Many other paradigms are supported via extensions, including __design by contract__ and __logical programming__.\n",
    "\n",
    "To say that code is __pythonic__ is to say that it uses Python idioms well, that it is natural or shows fluency in the language, that it conforms with Python's __minimalist philosophy__ and emphasis on __readability__. In contrast, code that is difficult to understand or reads like a rough transcription from another programming language is called __unpythonic__."
   ]
  },
  {
   "cell_type": "markdown",
   "metadata": {},
   "source": [
    "# Data Types\n",
    "\n",
    "## Container vs Values\n",
    "\n",
    "A value cannot be seperated into smaller data, but containers can hold many values and even other containers.\n",
    "\n",
    "\n",
    "## Mutable vs Immutable\n",
    "\n",
    "Any container that can be modified directly is a __mutable__ data type. Data types that cannot be modified, including all values, are __immmutable__, and a new object must be created every time it changes.\n",
    "\n",
    "\n",
    "## Indexes vs Keys vs Unstructured\n",
    "\n",
    "Some containers are __indexed__ with integers, some are __keyed__ with any (immutable) data, and some completely lack structure.\n",
    "\n",
    "Type      | Container? | Mutuable?  | Structure    | Example\n",
    "----------|------------|------------|--------------|---------\n",
    "NoneType  | Value      | Immutable  |-             | None\n",
    "bool      | Value      | Immutable  |-             | True\n",
    "int       | Value      | Immutable  |-             | -1\n",
    "float     | Value      | Immutable  |-             | -1.2\n",
    "tuple     | Container  | Immutable  | Indexed      | (2, 3)\n",
    "str       | Container  | Immutable  | Indexed      | 'Hello'\n",
    "list      | Container  | Mutable    | Indexed      | \\[2, 3\\]\n",
    "dict      | Container  | Mutable    | Keyed        | {'one' : 1}\n",
    "set       | Container  | Mutable    | Unstructured | {1, 2}\n"
   ]
  },
  {
   "cell_type": "code",
   "execution_count": null,
   "metadata": {},
   "outputs": [],
   "source": [
    "# NoneType\n",
    "\n"
   ]
  },
  {
   "cell_type": "code",
   "execution_count": null,
   "metadata": {},
   "outputs": [],
   "source": [
    "# Bool\n",
    "\n"
   ]
  },
  {
   "cell_type": "code",
   "execution_count": 31,
   "metadata": {},
   "outputs": [],
   "source": [
    "# Int\n",
    "\n"
   ]
  },
  {
   "cell_type": "code",
   "execution_count": null,
   "metadata": {},
   "outputs": [],
   "source": [
    "# Float\n",
    "\n"
   ]
  },
  {
   "cell_type": "code",
   "execution_count": null,
   "metadata": {},
   "outputs": [],
   "source": [
    "# Tuple\n",
    "\n"
   ]
  },
  {
   "cell_type": "code",
   "execution_count": null,
   "metadata": {},
   "outputs": [],
   "source": [
    "# Str\n",
    "\n"
   ]
  },
  {
   "cell_type": "code",
   "execution_count": null,
   "metadata": {},
   "outputs": [],
   "source": [
    "# List\n",
    "\n"
   ]
  },
  {
   "cell_type": "code",
   "execution_count": null,
   "metadata": {},
   "outputs": [],
   "source": [
    "# Dict\n",
    "\n"
   ]
  },
  {
   "cell_type": "code",
   "execution_count": null,
   "metadata": {},
   "outputs": [],
   "source": [
    "# Set\n",
    "\n"
   ]
  },
  {
   "cell_type": "markdown",
   "metadata": {},
   "source": [
    "# Statements\n",
    "\n",
    "Statements are pieces of code that define a context for multiple lines. Unlike most languages, the code inside of a statement is signified by a colon `:`, then __indentation__, rather than curly braces. Any statement can be placed inside any other statement. Assignment breaks this rule, as it is only one line."
   ]
  },
  {
   "cell_type": "markdown",
   "metadata": {},
   "source": [
    "## Assignment Statements\n",
    "\n",
    "The assignment statement uses the symbol `=`. `x=2` means that label `x` receives a reference to a separate, dynamically allocated object of numeric (int) type of value `2`."
   ]
  },
  {
   "cell_type": "code",
   "execution_count": null,
   "metadata": {},
   "outputs": [],
   "source": [
    "# Assignment\n",
    "\n"
   ]
  },
  {
   "cell_type": "markdown",
   "metadata": {},
   "source": [
    "## Conditional Statements\n",
    "\n",
    "The `if` statement, which conditionally executes a block of code, along with `else` and `elif` (a contraction of else and if). Empty data types, `False`, and `None` are considered `False`."
   ]
  },
  {
   "cell_type": "code",
   "execution_count": null,
   "metadata": {},
   "outputs": [],
   "source": [
    "# Conditionals\n",
    "\n"
   ]
  },
  {
   "cell_type": "markdown",
   "metadata": {},
   "source": [
    "## Iteration Statements\n",
    "\n",
    "The `for` statement, which iterates over containers, captures each element to a local variable for use by the attached block. \n",
    "\n",
    "The `while` statement executes a block of code as long as its condition is `True`.\n",
    "\n",
    "Both iteration statements can use `break` and `continue` keywords, to break out of the loop and skip to the next element in the iteration, respectively.\n",
    "\n",
    "Iteration statements also have an `else` block, like `if` statements, which is executed if the statement is not __broken__."
   ]
  },
  {
   "cell_type": "code",
   "execution_count": null,
   "metadata": {},
   "outputs": [],
   "source": [
    "# For\n",
    "\n"
   ]
  },
  {
   "cell_type": "code",
   "execution_count": 33,
   "metadata": {},
   "outputs": [],
   "source": [
    "# While\n",
    "\n"
   ]
  },
  {
   "cell_type": "markdown",
   "metadata": {},
   "source": [
    "## Error Handling\n",
    "\n",
    "The `try` statement, which allows exceptions raised in its attached code block to be caught and handled by `except` clauses; it also ensures that clean-up code in a `finally` block will always be run regardless of how the block exits. The `raise` statement, used to raise a specified exception or re-raise a caught exception."
   ]
  },
  {
   "cell_type": "code",
   "execution_count": null,
   "metadata": {},
   "outputs": [],
   "source": [
    "# Error Handling\n",
    "\n"
   ]
  },
  {
   "cell_type": "markdown",
   "metadata": {},
   "source": [
    "## Code Reusability\n",
    "\n",
    "### Functions\n",
    "\n",
    "The `def` statement defines a __function__, __method__, or __generator__.\n",
    "__Functions__ are segments of code that make their own scope, take in parameters, process them, and stop all processing once __returned__ with the `return` keyword, and will start back _at the top of the function_ when called again. \n",
    "\n",
    "### Generators\n",
    "\n",
    "Python also has __Generators__, which operate the same way, but use the `yield` keyword instead, and resume _at the yield_ when called with the `next` function. Both will return `None` if there is no more code in the block.\n",
    "\n",
    "### Classes\n",
    "\n",
    "The `class` statement executes a block of code and attaches its local namespace to a class, for use in object-oriented programming.\n"
   ]
  },
  {
   "cell_type": "code",
   "execution_count": null,
   "metadata": {},
   "outputs": [],
   "source": [
    "# Functions\n",
    "\n"
   ]
  },
  {
   "cell_type": "code",
   "execution_count": null,
   "metadata": {},
   "outputs": [],
   "source": [
    "# Generators\n",
    "\n"
   ]
  },
  {
   "cell_type": "code",
   "execution_count": null,
   "metadata": {},
   "outputs": [],
   "source": [
    "# Classes\n",
    "\n"
   ]
  },
  {
   "cell_type": "markdown",
   "metadata": {},
   "source": [
    "# Simple Expressions\n",
    "\n",
    "Expressions are pieces of code that are waiting to be evaluated and simplified. An expression can always be placed in parentheses to elevate its evaluation order, within other expressions, or within statements."
   ]
  },
  {
   "cell_type": "markdown",
   "metadata": {},
   "source": [
    "## Arithmetic operators\n",
    "* addition: `+`\n",
    "* subtraction: `-`\n",
    "* multiplication: `*`\n",
    "* division: `/`\n",
    "* floor division: `//`\n",
    "* exponent: `**`\n",
    "* modulus: `%`\n",
    "\n",
    "## Set operators\n",
    "* set xor: `^`\n",
    "* set intersection: `&`\n",
    "* set union: `|`\n",
    "\n",
    "Both arithmetic and set operators have corresponding augmented assignment statements, created by adding `=` to the operator.\n",
    "\n",
    "## Comparison operators\n",
    "* logical and: `and`\n",
    "* logical or: `or`\n",
    "* logical not: `not`\n",
    "* value equality: `==`\n",
    "* value inequality: `!=`\n",
    "* identity equality: `is`\n",
    "* identity inequality: `is not`\n",
    "* less than: `<`\n",
    "* greater than: `>`\n",
    "* less that or equal to: `<=`\n",
    "* greater than or equal to: `>=`\n",
    "\n",
    "## Membership Operator\n",
    "* membership test: `in`\n",
    "\n",
    "## Indexing\n",
    "* `d['x']`\n",
    "\n",
    "## Function Calling\n",
    "* `f(x)`\n",
    "\n",
    "## Method Calling\n",
    "* `Cls.func(x)`"
   ]
  },
  {
   "cell_type": "code",
   "execution_count": null,
   "metadata": {},
   "outputs": [],
   "source": [
    "# Arithmetic\n",
    "\n",
    "\n"
   ]
  },
  {
   "cell_type": "code",
   "execution_count": null,
   "metadata": {},
   "outputs": [],
   "source": [
    "# Set\n",
    "\n",
    "\n"
   ]
  },
  {
   "cell_type": "code",
   "execution_count": null,
   "metadata": {},
   "outputs": [],
   "source": [
    "# Comparison\n",
    "\n",
    "\n"
   ]
  },
  {
   "cell_type": "code",
   "execution_count": null,
   "metadata": {},
   "outputs": [],
   "source": [
    "# Membership\n",
    "\n",
    "\n"
   ]
  },
  {
   "cell_type": "code",
   "execution_count": null,
   "metadata": {},
   "outputs": [],
   "source": [
    "# Indexing\n",
    "\n",
    "\n"
   ]
  },
  {
   "cell_type": "code",
   "execution_count": null,
   "metadata": {},
   "outputs": [],
   "source": [
    "# Function Calling\n",
    "\n",
    "\n"
   ]
  },
  {
   "cell_type": "code",
   "execution_count": null,
   "metadata": {},
   "outputs": [],
   "source": [
    "# Method Calling\n",
    "\n",
    "\n"
   ]
  },
  {
   "cell_type": "markdown",
   "metadata": {},
   "source": [
    "# Assignment Expressions\n",
    "\n",
    "For many python __statements__, there is a __statement expression__ counterpart that uses the same keywords, but are contained in one __expression__. This is where python syntax differs from a lot of other languages, and makes python very quick to write. "
   ]
  },
  {
   "cell_type": "markdown",
   "metadata": {},
   "source": [
    "## Assignment Expression\n",
    "\n",
    "No current implementation."
   ]
  },
  {
   "cell_type": "markdown",
   "metadata": {},
   "source": [
    "## Conditional Expressions\n",
    "\n",
    "Uses `if` and `else` in one expression."
   ]
  },
  {
   "cell_type": "code",
   "execution_count": null,
   "metadata": {},
   "outputs": [],
   "source": [
    "# Conditional Expressions\n",
    "\n"
   ]
  },
  {
   "cell_type": "markdown",
   "metadata": {},
   "source": [
    "## Iteration Expressions\n",
    "\n",
    "Iteration expressions are done via __comprehensions__ which takes one container, applies an inline function to each value in the container, and puts it in another container."
   ]
  },
  {
   "cell_type": "code",
   "execution_count": null,
   "metadata": {},
   "outputs": [],
   "source": [
    "# Iteration expressions\n",
    "\n"
   ]
  },
  {
   "cell_type": "markdown",
   "metadata": {},
   "source": [
    "## Function Expression\n",
    "\n",
    "Function expressions are done via the `lambda` keyword."
   ]
  },
  {
   "cell_type": "code",
   "execution_count": null,
   "metadata": {},
   "outputs": [],
   "source": [
    "# Function Expressions\n",
    "\n"
   ]
  },
  {
   "cell_type": "markdown",
   "metadata": {},
   "source": [
    "## Error Exception Expressions\n",
    "\n",
    "No comparison"
   ]
  },
  {
   "cell_type": "markdown",
   "metadata": {},
   "source": [
    "# Pulling it All Together\n",
    "\n",
    "Let's try combining all of the data types, statements, and expressions into one block of code."
   ]
  },
  {
   "cell_type": "code",
   "execution_count": 34,
   "metadata": {},
   "outputs": [],
   "source": [
    "# Putting it All Together\n",
    "\n"
   ]
  }
 ],
 "metadata": {
  "kernelspec": {
   "display_name": "Python 3",
   "language": "python",
   "name": "python3"
  },
  "language_info": {
   "codemirror_mode": {
    "name": "ipython",
    "version": 3
   },
   "file_extension": ".py",
   "mimetype": "text/x-python",
   "name": "python",
   "nbconvert_exporter": "python",
   "pygments_lexer": "ipython3",
   "version": "3.6.1"
  }
 },
 "nbformat": 4,
 "nbformat_minor": 2
}
